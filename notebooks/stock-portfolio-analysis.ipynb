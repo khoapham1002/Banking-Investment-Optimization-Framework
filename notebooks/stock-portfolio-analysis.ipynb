{
 "cells": [
  {
   "cell_type": "markdown",
   "id": "8dc87712",
   "metadata": {},
   "source": [
    "# Stock Portfolio Optimization\n",
    "\n",
    "## Background\n",
    "\n",
    "Asset allocation is the most important decision that any investor needs to face. They need to decide how to spread their total capital over certain assets (in this case, stocks). When considering the allocation, the investor wants to balance the risk and the potential reward. At the same time, the allocation depends on factors such as individual goals, risk tolerance, and the investment horizon.\n",
    "\n",
    "The key framework used in asset allocation is the Modern Portfolio Theory (MPT), which was introduced by the Nobel Prize winner Harry Markowitz. MPT describes how investors can construct portfolios to maximize their expected returns for a given level of risk or, conversely, minimize risk for a given level of expected return. The mathematical framework used to achieve this is called mean-variance optimization.\n",
    "\n",
    "The main insight from MPT is that investors should not evaluate an asset’s performance alone. Instead, they should evaluate how it would impact the performance of a portfolio of assets. Another important takeaway is the concept of diversification, which means that owning different kinds of assets reduces risk. That is because the loss or gain of a particular security has less impact on the overall portfolio’s performance.\n",
    "\n",
    "\n",
    "## Instructions\n",
    "\n",
    "Use the `faang_stocks.csv` dataset to complete the following analysis:\n",
    "\n",
    "* What are the expected returns and the annualized Sharpe ratio of an equally-weighted portfolio? Assume the risk-free rate is 0% and store your answers as a float variables called benchmark_exp_return and benchmark_sharpe_ratio.\n",
    "\n",
    "* Find a portfolio that minimizes volatility. Use mean-variance optimization. Store the volatility of the portfolio as a float variable called mv_portfolio_vol. Store the portfolio weights as a pandas Series called mv_portfolio. Use the tickers as index.\n",
    "\n",
    "* Find a portfolio that maximizes the Sharpe ratio. Use mean-variance optimization and keep the risk-free rate at 0%. Store the Sharpe ratio (annualized) of the portfolio as a float variable called ms_portfolio_sharpe. Store the portfolio weights as a pandas Series called ms_portfolio. Use the tickers as index.\n",
    "\n",
    "<br>\n",
    "\n",
    "In the dynamic realm of finance, data scientists/analysts are often tasked with finding optimal investment strategies. Imagine you're one such analyst, and you were asked to build an effective portfolio comprising FAANG stocks – Facebook (Meta), Apple, Amazon, Netflix, and Google. The goal is to maximize returns while mitigating risk.\n",
    "\n",
    "You are tasked to find the optimal allocation to the FAANG stocks based on historical stock price data spanning the years 2020-2023. The dataset is stored in the `faang_stocks.csv` file. For each trading day, it contains the close prices of the five tech companies."
   ]
  },
  {
   "cell_type": "code",
   "execution_count": 102,
   "id": "51f9b98e",
   "metadata": {},
   "outputs": [],
   "source": [
    "import pandas as pd\n",
    "import numpy as np\n",
    "import matplotlib.pyplot as plt\n",
    "import seaborn as sns\n",
    "\n",
    "# Helps optimize stock portfolios.\n",
    "from pypfopt.efficient_frontier import EfficientFrontier\n",
    "from pypfopt import risk_models\n",
    "from pypfopt import expected_returns\n",
    "import scipy.optimize as sco"
   ]
  },
  {
   "cell_type": "code",
   "execution_count": 88,
   "id": "2a72dd41",
   "metadata": {},
   "outputs": [
    {
     "name": "stdout",
     "output_type": "stream",
     "text": [
      "['Solarize_Light2', '_classic_test_patch', '_mpl-gallery', '_mpl-gallery-nogrid', 'bmh', 'classic', 'dark_background', 'fast', 'fivethirtyeight', 'ggplot', 'grayscale', 'seaborn-v0_8', 'seaborn-v0_8-bright', 'seaborn-v0_8-colorblind', 'seaborn-v0_8-dark', 'seaborn-v0_8-dark-palette', 'seaborn-v0_8-darkgrid', 'seaborn-v0_8-deep', 'seaborn-v0_8-muted', 'seaborn-v0_8-notebook', 'seaborn-v0_8-paper', 'seaborn-v0_8-pastel', 'seaborn-v0_8-poster', 'seaborn-v0_8-talk', 'seaborn-v0_8-ticks', 'seaborn-v0_8-white', 'seaborn-v0_8-whitegrid', 'tableau-colorblind10']\n"
     ]
    }
   ],
   "source": [
    "print(plt.style.available)"
   ]
  },
  {
   "cell_type": "code",
   "execution_count": 89,
   "id": "8f12b907-e70c-4946-84f8-8608a4c9715c",
   "metadata": {
    "executionCancelledAt": null,
    "executionTime": 42,
    "lastExecutedAt": 1736468533620,
    "lastExecutedByKernel": "c2f71e3a-7ab0-44cb-a155-adb13eba431d",
    "lastScheduledRunId": null,
    "lastSuccessfullyExecutedCode": "# Importing libraries\nimport pandas as pd\nimport numpy as np\nimport matplotlib.pyplot as plt\n\nfrom pypfopt.efficient_frontier import EfficientFrontier\nfrom pypfopt import risk_models\nfrom pypfopt import expected_returns\n\n# Setting the plotting style to be colorblind-friendly\nplt.style.use(\"seaborn-colorblind\")\n\n# Loading data\nstock_prices_df = pd.read_csv(\"faang_stocks.csv\", index_col=\"Date\")\n\n# Changing the index to a datetime type allows for easier filtering and plotting.\nstock_prices_df.index = pd.to_datetime(stock_prices_df.index)\nstock_prices_df",
    "outputsMetadata": {
     "0": {
      "height": 550,
      "tableState": {
       "quickFilterText": ""
      },
      "type": "dataFrame"
     }
    }
   },
   "outputs": [],
   "source": [
    "# Setting the plotting style to be colorblind-friendly\n",
    "# plt.style.use(\"seaborn-v0_8-colorblind\")\n",
    "# plt.style.use(\"dark_background\")\n",
    "plt.style.use(\"seaborn-v0_8-dark-palette\")"
   ]
  },
  {
   "cell_type": "code",
   "execution_count": 90,
   "id": "1d898bdb",
   "metadata": {},
   "outputs": [
    {
     "data": {
      "text/html": [
       "<div>\n",
       "<style scoped>\n",
       "    .dataframe tbody tr th:only-of-type {\n",
       "        vertical-align: middle;\n",
       "    }\n",
       "\n",
       "    .dataframe tbody tr th {\n",
       "        vertical-align: top;\n",
       "    }\n",
       "\n",
       "    .dataframe thead th {\n",
       "        text-align: right;\n",
       "    }\n",
       "</style>\n",
       "<table border=\"1\" class=\"dataframe\">\n",
       "  <thead>\n",
       "    <tr style=\"text-align: right;\">\n",
       "      <th></th>\n",
       "      <th>Date</th>\n",
       "      <th>AAPL</th>\n",
       "      <th>AMZN</th>\n",
       "      <th>GOOGL</th>\n",
       "      <th>META</th>\n",
       "      <th>NFLX</th>\n",
       "    </tr>\n",
       "  </thead>\n",
       "  <tbody>\n",
       "    <tr>\n",
       "      <th>0</th>\n",
       "      <td>2020-01-02</td>\n",
       "      <td>75.09</td>\n",
       "      <td>94.90</td>\n",
       "      <td>68.43</td>\n",
       "      <td>209.78</td>\n",
       "      <td>329.81</td>\n",
       "    </tr>\n",
       "    <tr>\n",
       "      <th>1</th>\n",
       "      <td>2020-01-03</td>\n",
       "      <td>74.36</td>\n",
       "      <td>93.75</td>\n",
       "      <td>68.08</td>\n",
       "      <td>208.67</td>\n",
       "      <td>325.90</td>\n",
       "    </tr>\n",
       "    <tr>\n",
       "      <th>2</th>\n",
       "      <td>2020-01-06</td>\n",
       "      <td>74.95</td>\n",
       "      <td>95.14</td>\n",
       "      <td>69.89</td>\n",
       "      <td>212.60</td>\n",
       "      <td>335.83</td>\n",
       "    </tr>\n",
       "    <tr>\n",
       "      <th>3</th>\n",
       "      <td>2020-01-07</td>\n",
       "      <td>74.60</td>\n",
       "      <td>95.34</td>\n",
       "      <td>69.76</td>\n",
       "      <td>213.06</td>\n",
       "      <td>330.75</td>\n",
       "    </tr>\n",
       "    <tr>\n",
       "      <th>4</th>\n",
       "      <td>2020-01-08</td>\n",
       "      <td>75.80</td>\n",
       "      <td>94.60</td>\n",
       "      <td>70.25</td>\n",
       "      <td>215.22</td>\n",
       "      <td>339.26</td>\n",
       "    </tr>\n",
       "    <tr>\n",
       "      <th>...</th>\n",
       "      <td>...</td>\n",
       "      <td>...</td>\n",
       "      <td>...</td>\n",
       "      <td>...</td>\n",
       "      <td>...</td>\n",
       "      <td>...</td>\n",
       "    </tr>\n",
       "    <tr>\n",
       "      <th>1001</th>\n",
       "      <td>2023-12-22</td>\n",
       "      <td>193.60</td>\n",
       "      <td>153.42</td>\n",
       "      <td>141.49</td>\n",
       "      <td>353.39</td>\n",
       "      <td>486.76</td>\n",
       "    </tr>\n",
       "    <tr>\n",
       "      <th>1002</th>\n",
       "      <td>2023-12-26</td>\n",
       "      <td>193.05</td>\n",
       "      <td>153.41</td>\n",
       "      <td>141.52</td>\n",
       "      <td>354.83</td>\n",
       "      <td>491.19</td>\n",
       "    </tr>\n",
       "    <tr>\n",
       "      <th>1003</th>\n",
       "      <td>2023-12-27</td>\n",
       "      <td>193.15</td>\n",
       "      <td>153.34</td>\n",
       "      <td>140.37</td>\n",
       "      <td>357.83</td>\n",
       "      <td>491.79</td>\n",
       "    </tr>\n",
       "    <tr>\n",
       "      <th>1004</th>\n",
       "      <td>2023-12-28</td>\n",
       "      <td>193.58</td>\n",
       "      <td>153.38</td>\n",
       "      <td>140.23</td>\n",
       "      <td>358.32</td>\n",
       "      <td>490.51</td>\n",
       "    </tr>\n",
       "    <tr>\n",
       "      <th>1005</th>\n",
       "      <td>2023-12-29</td>\n",
       "      <td>192.53</td>\n",
       "      <td>151.94</td>\n",
       "      <td>139.69</td>\n",
       "      <td>353.96</td>\n",
       "      <td>486.88</td>\n",
       "    </tr>\n",
       "  </tbody>\n",
       "</table>\n",
       "<p>1006 rows × 6 columns</p>\n",
       "</div>"
      ],
      "text/plain": [
       "            Date    AAPL    AMZN   GOOGL    META    NFLX\n",
       "0     2020-01-02   75.09   94.90   68.43  209.78  329.81\n",
       "1     2020-01-03   74.36   93.75   68.08  208.67  325.90\n",
       "2     2020-01-06   74.95   95.14   69.89  212.60  335.83\n",
       "3     2020-01-07   74.60   95.34   69.76  213.06  330.75\n",
       "4     2020-01-08   75.80   94.60   70.25  215.22  339.26\n",
       "...          ...     ...     ...     ...     ...     ...\n",
       "1001  2023-12-22  193.60  153.42  141.49  353.39  486.76\n",
       "1002  2023-12-26  193.05  153.41  141.52  354.83  491.19\n",
       "1003  2023-12-27  193.15  153.34  140.37  357.83  491.79\n",
       "1004  2023-12-28  193.58  153.38  140.23  358.32  490.51\n",
       "1005  2023-12-29  192.53  151.94  139.69  353.96  486.88\n",
       "\n",
       "[1006 rows x 6 columns]"
      ]
     },
     "execution_count": 90,
     "metadata": {},
     "output_type": "execute_result"
    }
   ],
   "source": [
    "# Loading data\n",
    "# stock_prices_df = pd.read_csv(\"../data_raw/faang_stocks.csv\", index_col=\"Date\")\n",
    "stock_prices_df = pd.read_csv(\"../data_raw/faang_stocks.csv\")\n",
    "stock_prices_df"
   ]
  },
  {
   "cell_type": "markdown",
   "id": "ab7b43b3",
   "metadata": {},
   "source": [
    "Each row shows the daily closing price for FAANG stocks.    \n",
    "On 2020-01-02, Apple’s stock closed at $75.09, Amazon at $94.90, etc."
   ]
  },
  {
   "cell_type": "code",
   "execution_count": 91,
   "id": "39177482",
   "metadata": {},
   "outputs": [
    {
     "name": "stdout",
     "output_type": "stream",
     "text": [
      "<class 'pandas.core.frame.DataFrame'>\n",
      "RangeIndex: 1006 entries, 0 to 1005\n",
      "Data columns (total 6 columns):\n",
      " #   Column  Non-Null Count  Dtype  \n",
      "---  ------  --------------  -----  \n",
      " 0   Date    1006 non-null   object \n",
      " 1   AAPL    1006 non-null   float64\n",
      " 2   AMZN    1006 non-null   float64\n",
      " 3   GOOGL   1006 non-null   float64\n",
      " 4   META    1006 non-null   float64\n",
      " 5   NFLX    1006 non-null   float64\n",
      "dtypes: float64(5), object(1)\n",
      "memory usage: 47.3+ KB\n"
     ]
    }
   ],
   "source": [
    "stock_prices_df.info()"
   ]
  },
  {
   "cell_type": "code",
   "execution_count": 92,
   "id": "a3976843",
   "metadata": {},
   "outputs": [],
   "source": [
    "# # Changing the index to a datetime type allows for easier filtering and plotting.\n",
    "# stock_prices_df.index = pd.to_datetime(stock_prices_df.index)\n",
    "# stock_prices_df"
   ]
  },
  {
   "cell_type": "code",
   "execution_count": 93,
   "id": "a0d172f9",
   "metadata": {},
   "outputs": [
    {
     "name": "stdout",
     "output_type": "stream",
     "text": [
      "<class 'pandas.core.frame.DataFrame'>\n",
      "RangeIndex: 1006 entries, 0 to 1005\n",
      "Data columns (total 6 columns):\n",
      " #   Column  Non-Null Count  Dtype         \n",
      "---  ------  --------------  -----         \n",
      " 0   Date    1006 non-null   datetime64[ns]\n",
      " 1   AAPL    1006 non-null   float64       \n",
      " 2   AMZN    1006 non-null   float64       \n",
      " 3   GOOGL   1006 non-null   float64       \n",
      " 4   META    1006 non-null   float64       \n",
      " 5   NFLX    1006 non-null   float64       \n",
      "dtypes: datetime64[ns](1), float64(5)\n",
      "memory usage: 47.3 KB\n"
     ]
    }
   ],
   "source": [
    "# Changing the index to a datetime type allows for easier filtering and plotting.\n",
    "stock_prices_df['Date'] = pd.to_datetime(stock_prices_df['Date'])\n",
    "stock_prices_df.info()"
   ]
  },
  {
   "cell_type": "code",
   "execution_count": 54,
   "id": "f20300b3",
   "metadata": {},
   "outputs": [
    {
     "data": {
      "text/html": [
       "<div>\n",
       "<style scoped>\n",
       "    .dataframe tbody tr th:only-of-type {\n",
       "        vertical-align: middle;\n",
       "    }\n",
       "\n",
       "    .dataframe tbody tr th {\n",
       "        vertical-align: top;\n",
       "    }\n",
       "\n",
       "    .dataframe thead th {\n",
       "        text-align: right;\n",
       "    }\n",
       "</style>\n",
       "<table border=\"1\" class=\"dataframe\">\n",
       "  <thead>\n",
       "    <tr style=\"text-align: right;\">\n",
       "      <th></th>\n",
       "      <th>AAPL</th>\n",
       "      <th>AMZN</th>\n",
       "      <th>GOOGL</th>\n",
       "      <th>META</th>\n",
       "      <th>NFLX</th>\n",
       "    </tr>\n",
       "    <tr>\n",
       "      <th>Date</th>\n",
       "      <th></th>\n",
       "      <th></th>\n",
       "      <th></th>\n",
       "      <th></th>\n",
       "      <th></th>\n",
       "    </tr>\n",
       "  </thead>\n",
       "  <tbody>\n",
       "    <tr>\n",
       "      <th>2020-01-02</th>\n",
       "      <td>75.09</td>\n",
       "      <td>94.90</td>\n",
       "      <td>68.43</td>\n",
       "      <td>209.78</td>\n",
       "      <td>329.81</td>\n",
       "    </tr>\n",
       "    <tr>\n",
       "      <th>2020-01-03</th>\n",
       "      <td>74.36</td>\n",
       "      <td>93.75</td>\n",
       "      <td>68.08</td>\n",
       "      <td>208.67</td>\n",
       "      <td>325.90</td>\n",
       "    </tr>\n",
       "    <tr>\n",
       "      <th>2020-01-06</th>\n",
       "      <td>74.95</td>\n",
       "      <td>95.14</td>\n",
       "      <td>69.89</td>\n",
       "      <td>212.60</td>\n",
       "      <td>335.83</td>\n",
       "    </tr>\n",
       "    <tr>\n",
       "      <th>2020-01-07</th>\n",
       "      <td>74.60</td>\n",
       "      <td>95.34</td>\n",
       "      <td>69.76</td>\n",
       "      <td>213.06</td>\n",
       "      <td>330.75</td>\n",
       "    </tr>\n",
       "    <tr>\n",
       "      <th>2020-01-08</th>\n",
       "      <td>75.80</td>\n",
       "      <td>94.60</td>\n",
       "      <td>70.25</td>\n",
       "      <td>215.22</td>\n",
       "      <td>339.26</td>\n",
       "    </tr>\n",
       "    <tr>\n",
       "      <th>...</th>\n",
       "      <td>...</td>\n",
       "      <td>...</td>\n",
       "      <td>...</td>\n",
       "      <td>...</td>\n",
       "      <td>...</td>\n",
       "    </tr>\n",
       "    <tr>\n",
       "      <th>2023-12-22</th>\n",
       "      <td>193.60</td>\n",
       "      <td>153.42</td>\n",
       "      <td>141.49</td>\n",
       "      <td>353.39</td>\n",
       "      <td>486.76</td>\n",
       "    </tr>\n",
       "    <tr>\n",
       "      <th>2023-12-26</th>\n",
       "      <td>193.05</td>\n",
       "      <td>153.41</td>\n",
       "      <td>141.52</td>\n",
       "      <td>354.83</td>\n",
       "      <td>491.19</td>\n",
       "    </tr>\n",
       "    <tr>\n",
       "      <th>2023-12-27</th>\n",
       "      <td>193.15</td>\n",
       "      <td>153.34</td>\n",
       "      <td>140.37</td>\n",
       "      <td>357.83</td>\n",
       "      <td>491.79</td>\n",
       "    </tr>\n",
       "    <tr>\n",
       "      <th>2023-12-28</th>\n",
       "      <td>193.58</td>\n",
       "      <td>153.38</td>\n",
       "      <td>140.23</td>\n",
       "      <td>358.32</td>\n",
       "      <td>490.51</td>\n",
       "    </tr>\n",
       "    <tr>\n",
       "      <th>2023-12-29</th>\n",
       "      <td>192.53</td>\n",
       "      <td>151.94</td>\n",
       "      <td>139.69</td>\n",
       "      <td>353.96</td>\n",
       "      <td>486.88</td>\n",
       "    </tr>\n",
       "  </tbody>\n",
       "</table>\n",
       "<p>1006 rows × 5 columns</p>\n",
       "</div>"
      ],
      "text/plain": [
       "              AAPL    AMZN   GOOGL    META    NFLX\n",
       "Date                                              \n",
       "2020-01-02   75.09   94.90   68.43  209.78  329.81\n",
       "2020-01-03   74.36   93.75   68.08  208.67  325.90\n",
       "2020-01-06   74.95   95.14   69.89  212.60  335.83\n",
       "2020-01-07   74.60   95.34   69.76  213.06  330.75\n",
       "2020-01-08   75.80   94.60   70.25  215.22  339.26\n",
       "...            ...     ...     ...     ...     ...\n",
       "2023-12-22  193.60  153.42  141.49  353.39  486.76\n",
       "2023-12-26  193.05  153.41  141.52  354.83  491.19\n",
       "2023-12-27  193.15  153.34  140.37  357.83  491.79\n",
       "2023-12-28  193.58  153.38  140.23  358.32  490.51\n",
       "2023-12-29  192.53  151.94  139.69  353.96  486.88\n",
       "\n",
       "[1006 rows x 5 columns]"
      ]
     },
     "execution_count": 54,
     "metadata": {},
     "output_type": "execute_result"
    }
   ],
   "source": [
    "stock_prices_df.set_index('Date', inplace=True)\n",
    "stock_prices_df"
   ]
  },
  {
   "cell_type": "code",
   "execution_count": 48,
   "id": "00ec2a88",
   "metadata": {},
   "outputs": [
    {
     "name": "stdout",
     "output_type": "stream",
     "text": [
      "<class 'pandas.core.frame.DataFrame'>\n",
      "DatetimeIndex: 1006 entries, 2020-01-02 to 2023-12-29\n",
      "Data columns (total 5 columns):\n",
      " #   Column  Non-Null Count  Dtype  \n",
      "---  ------  --------------  -----  \n",
      " 0   AAPL    1006 non-null   float64\n",
      " 1   AMZN    1006 non-null   float64\n",
      " 2   GOOGL   1006 non-null   float64\n",
      " 3   META    1006 non-null   float64\n",
      " 4   NFLX    1006 non-null   float64\n",
      "dtypes: float64(5)\n",
      "memory usage: 47.2 KB\n"
     ]
    }
   ],
   "source": [
    "stock_prices_df.info()"
   ]
  },
  {
   "cell_type": "code",
   "execution_count": 55,
   "id": "aa0c4cae-0750-4c61-96b3-6d63f09100f1",
   "metadata": {
    "executionCancelledAt": null,
    "executionTime": 422,
    "lastExecutedAt": 1736468534042,
    "lastExecutedByKernel": "c2f71e3a-7ab0-44cb-a155-adb13eba431d",
    "lastScheduledRunId": null,
    "lastSuccessfullyExecutedCode": "# Plotting the stock prices\nstock_prices_df.plot(title=\"FAANG stock prices from years 2020-2023\");"
   },
   "outputs": [
    {
     "data": {
      "image/png": "[encoded data removed]",
      "text/plain": [
       "<Figure size 640x480 with 1 Axes>"
      ]
     },
     "metadata": {},
     "output_type": "display_data"
    }
   ],
   "source": [
    "# Plotting the stock prices\n",
    "stock_prices_df.plot(title=\"FAANG stock prices from years 2020-2023\");"
   ]
  },
  {
   "cell_type": "markdown",
   "id": "53e55f85",
   "metadata": {},
   "source": [
    "### Calculating Stock Returns"
   ]
  },
  {
   "cell_type": "code",
   "execution_count": 56,
   "id": "65d76f4d-b51d-4199-b2b1-e723417223bc",
   "metadata": {
    "executionCancelledAt": null,
    "executionTime": 54,
    "lastExecutedAt": 1736468534097,
    "lastExecutedByKernel": "c2f71e3a-7ab0-44cb-a155-adb13eba431d",
    "lastScheduledRunId": null,
    "lastSuccessfullyExecutedCode": "# Task 1 ---------------------------------------------------\n\n# Calculate returns\nreturns_df = stock_prices_df.pct_change().dropna()\n\n# Calculate the 1/n portfolio weights\nportfolio_weights = 5 * [0.2]\n\n# Calculate the portfolio returns of the 1/n portfolio\nportfolio_returns = returns_df.dot(portfolio_weights)\n\n# Calculate the expected portfolio return\nbenchmark_exp_return = portfolio_returns.mean()\n\n# Calculate the portfolio's Sharpe ratio\nbenchmark_sharpe_ratio = (\n    portfolio_returns.mean() / portfolio_returns.std() * np.sqrt(252)\n)\n\n# Task 2 ---------------------------------------------------\n\n# Calculate the annualized expected returns and the covariance matrix\navg_returns = returns_df.mean() * 252\ncov_mat = returns_df.cov() * 252\n\n# Instantiate the EfficientFrontier object\nef = EfficientFrontier(avg_returns, cov_mat)\n\n# Find the weights that maximize the Sharpe ratio\nweights = ef.min_volatility()\nmv_portfolio = pd.Series(weights)\n\n# Find the minimized volatility\nmv_portfolio_vol = ef.portfolio_performance(risk_free_rate=0)[1]\n\n# Task 2 - alternative solution ----------------------------\n\n# # Calculate the annualized expected returns and the covariance matrix\n# avg_returns = returns_df.mean() * 252\n# cov_mat = returns_df.cov() * 252\n\n# # Define the function to find the portfolio volatility using the weights and the covariance matrix\n# def get_portfolio_volatility(weights, cov_mat):\n#     return np.sqrt(np.dot(weights.T, np.dot(cov_mat, weights)))\n  \n# # Define the number of assets\n# n_assets = len(avg_returns)\n\n# # Define the bounds - the weights can be between 0 and 1\n# bounds = tuple((0, 1) for asset in range(n_assets))\n\n# # Define the initial guess - the equally weighted portfolio\n# initial_guess = n_assets * [1.0 / n_assets]\n\n# # Define the constraint - all weights must add up to 1\n# constr = {\"type\": \"eq\", \"fun\": lambda x: np.sum(x) - 1}\n\n# # Find the minimum volatility portfolio\n# result = sco.minimize(\n#     get_portfolio_volatility,\n#     x0=initial_guess,\n#     args=cov_mat,\n#     method=\"SLSQP\",\n#     constraints=constr,\n#     bounds=bounds,\n# )\n\n# # Store the portfolio weights\n# mv_portfolio = pd.Series(result.x, index=avg_returns.index).round(2)\n\n# # Store the portfolio's volatility\n# mv_portfolio_vol = result.fun\n\n# Task 3 ---------------------------------------------------\n\n# Alternative approach to get the expected returns and the covariance matrix\n# avg_returns = expected_returns.mean_historical_return(stock_prices_df, compounding=False)\n# cov_mat = risk_models.sample_cov(stock_prices_df)\n\n# Instantiate the EfficientFrontier object\nef = EfficientFrontier(avg_returns, cov_mat)\n\n# Find the weights that maximize the Sharpe ratio\nweights = ef.max_sharpe(risk_free_rate=0)\nms_portfolio = pd.Series(weights)\n\n# Find the maximized Sharpe ratio\nms_portfolio_sharpe = ef.portfolio_performance(risk_free_rate=0)[2]"
   },
   "outputs": [
    {
     "data": {
      "text/html": [
       "<div>\n",
       "<style scoped>\n",
       "    .dataframe tbody tr th:only-of-type {\n",
       "        vertical-align: middle;\n",
       "    }\n",
       "\n",
       "    .dataframe tbody tr th {\n",
       "        vertical-align: top;\n",
       "    }\n",
       "\n",
       "    .dataframe thead th {\n",
       "        text-align: right;\n",
       "    }\n",
       "</style>\n",
       "<table border=\"1\" class=\"dataframe\">\n",
       "  <thead>\n",
       "    <tr style=\"text-align: right;\">\n",
       "      <th></th>\n",
       "      <th>AAPL</th>\n",
       "      <th>AMZN</th>\n",
       "      <th>GOOGL</th>\n",
       "      <th>META</th>\n",
       "      <th>NFLX</th>\n",
       "    </tr>\n",
       "    <tr>\n",
       "      <th>Date</th>\n",
       "      <th></th>\n",
       "      <th></th>\n",
       "      <th></th>\n",
       "      <th></th>\n",
       "      <th></th>\n",
       "    </tr>\n",
       "  </thead>\n",
       "  <tbody>\n",
       "    <tr>\n",
       "      <th>2020-01-03</th>\n",
       "      <td>-0.009722</td>\n",
       "      <td>-0.012118</td>\n",
       "      <td>-0.005115</td>\n",
       "      <td>-0.005291</td>\n",
       "      <td>-0.011855</td>\n",
       "    </tr>\n",
       "    <tr>\n",
       "      <th>2020-01-06</th>\n",
       "      <td>0.007934</td>\n",
       "      <td>0.014827</td>\n",
       "      <td>0.026586</td>\n",
       "      <td>0.018834</td>\n",
       "      <td>0.030469</td>\n",
       "    </tr>\n",
       "    <tr>\n",
       "      <th>2020-01-07</th>\n",
       "      <td>-0.004670</td>\n",
       "      <td>0.002102</td>\n",
       "      <td>-0.001860</td>\n",
       "      <td>0.002164</td>\n",
       "      <td>-0.015127</td>\n",
       "    </tr>\n",
       "    <tr>\n",
       "      <th>2020-01-08</th>\n",
       "      <td>0.016086</td>\n",
       "      <td>-0.007762</td>\n",
       "      <td>0.007024</td>\n",
       "      <td>0.010138</td>\n",
       "      <td>0.025729</td>\n",
       "    </tr>\n",
       "    <tr>\n",
       "      <th>2020-01-09</th>\n",
       "      <td>0.021240</td>\n",
       "      <td>0.004757</td>\n",
       "      <td>0.010534</td>\n",
       "      <td>0.014311</td>\n",
       "      <td>-0.010611</td>\n",
       "    </tr>\n",
       "    <tr>\n",
       "      <th>...</th>\n",
       "      <td>...</td>\n",
       "      <td>...</td>\n",
       "      <td>...</td>\n",
       "      <td>...</td>\n",
       "      <td>...</td>\n",
       "    </tr>\n",
       "    <tr>\n",
       "      <th>2023-12-22</th>\n",
       "      <td>-0.005548</td>\n",
       "      <td>-0.002730</td>\n",
       "      <td>0.007620</td>\n",
       "      <td>-0.001977</td>\n",
       "      <td>-0.009866</td>\n",
       "    </tr>\n",
       "    <tr>\n",
       "      <th>2023-12-26</th>\n",
       "      <td>-0.002841</td>\n",
       "      <td>-0.000065</td>\n",
       "      <td>0.000212</td>\n",
       "      <td>0.004075</td>\n",
       "      <td>0.009101</td>\n",
       "    </tr>\n",
       "    <tr>\n",
       "      <th>2023-12-27</th>\n",
       "      <td>0.000518</td>\n",
       "      <td>-0.000456</td>\n",
       "      <td>-0.008126</td>\n",
       "      <td>0.008455</td>\n",
       "      <td>0.001222</td>\n",
       "    </tr>\n",
       "    <tr>\n",
       "      <th>2023-12-28</th>\n",
       "      <td>0.002226</td>\n",
       "      <td>0.000261</td>\n",
       "      <td>-0.000997</td>\n",
       "      <td>0.001369</td>\n",
       "      <td>-0.002603</td>\n",
       "    </tr>\n",
       "    <tr>\n",
       "      <th>2023-12-29</th>\n",
       "      <td>-0.005424</td>\n",
       "      <td>-0.009388</td>\n",
       "      <td>-0.003851</td>\n",
       "      <td>-0.012168</td>\n",
       "      <td>-0.007400</td>\n",
       "    </tr>\n",
       "  </tbody>\n",
       "</table>\n",
       "<p>1005 rows × 5 columns</p>\n",
       "</div>"
      ],
      "text/plain": [
       "                AAPL      AMZN     GOOGL      META      NFLX\n",
       "Date                                                        \n",
       "2020-01-03 -0.009722 -0.012118 -0.005115 -0.005291 -0.011855\n",
       "2020-01-06  0.007934  0.014827  0.026586  0.018834  0.030469\n",
       "2020-01-07 -0.004670  0.002102 -0.001860  0.002164 -0.015127\n",
       "2020-01-08  0.016086 -0.007762  0.007024  0.010138  0.025729\n",
       "2020-01-09  0.021240  0.004757  0.010534  0.014311 -0.010611\n",
       "...              ...       ...       ...       ...       ...\n",
       "2023-12-22 -0.005548 -0.002730  0.007620 -0.001977 -0.009866\n",
       "2023-12-26 -0.002841 -0.000065  0.000212  0.004075  0.009101\n",
       "2023-12-27  0.000518 -0.000456 -0.008126  0.008455  0.001222\n",
       "2023-12-28  0.002226  0.000261 -0.000997  0.001369 -0.002603\n",
       "2023-12-29 -0.005424 -0.009388 -0.003851 -0.012168 -0.007400\n",
       "\n",
       "[1005 rows x 5 columns]"
      ]
     },
     "execution_count": 56,
     "metadata": {},
     "output_type": "execute_result"
    }
   ],
   "source": [
    "### Task 1 ---------------------------------------------------\n",
    "\n",
    "### Calculate returns\n",
    "# .pct_change() -> Calculates daily percentage changes in stock prices.\n",
    "# .dropna() -> Removes any rows with missing values.\n",
    "\n",
    "returns_df = stock_prices_df.pct_change().dropna()\n",
    "returns_df"
   ]
  },
  {
   "cell_type": "markdown",
   "id": "1751db94",
   "metadata": {},
   "source": [
    "On 2020-01-03, Apple’s stock dropped by -0.97%, Amazon dropped by -1.21%, etc.   \n",
    "On 2020-01-06, Apple gained +0.79%, Amazon gained +1.48%, etc.   "
   ]
  },
  {
   "cell_type": "markdown",
   "id": "72ca811f",
   "metadata": {},
   "source": [
    "### Calculating Equal-Weighted Portfolio Returns"
   ]
  },
  {
   "cell_type": "code",
   "execution_count": 94,
   "id": "b4920324",
   "metadata": {},
   "outputs": [
    {
     "data": {
      "text/plain": [
       "[0.2, 0.2, 0.2, 0.2, 0.2]"
      ]
     },
     "execution_count": 94,
     "metadata": {},
     "output_type": "execute_result"
    }
   ],
   "source": [
    "### Calculate the 1/n portfolio weights\n",
    "\n",
    "# Creates an equal allocation of 20% in each stock.\n",
    "portfolio_weights = 5 * [0.2]\n",
    "portfolio_weights"
   ]
  },
  {
   "cell_type": "code",
   "execution_count": 58,
   "id": "f15a1f8a",
   "metadata": {},
   "outputs": [
    {
     "data": {
      "text/plain": [
       "Date\n",
       "2020-01-03   -0.008820\n",
       "2020-01-06    0.019730\n",
       "2020-01-07   -0.003478\n",
       "2020-01-08    0.010243\n",
       "2020-01-09    0.008046\n",
       "                ...   \n",
       "2023-12-22   -0.002500\n",
       "2023-12-26    0.002096\n",
       "2023-12-27    0.000322\n",
       "2023-12-28    0.000051\n",
       "2023-12-29   -0.007646\n",
       "Length: 1005, dtype: float64"
      ]
     },
     "execution_count": 58,
     "metadata": {},
     "output_type": "execute_result"
    }
   ],
   "source": [
    "### Calculate the portfolio returns of the 1/n portfolio\n",
    "\n",
    "# .dot() to calculate the total daily return for the portfolio\n",
    "portfolio_returns = returns_df.dot(portfolio_weights)\n",
    "portfolio_returns"
   ]
  },
  {
   "cell_type": "markdown",
   "id": "6b02350c",
   "metadata": {},
   "source": [
    "On 2020-01-03, the portfolio lost -0.88%.   \n",
    "On 2020-01-06, the portfolio gained +1.97%."
   ]
  },
  {
   "cell_type": "markdown",
   "id": "371d9a2d",
   "metadata": {},
   "source": [
    "### Calculating Portfolio Performance"
   ]
  },
  {
   "cell_type": "markdown",
   "id": "e5d5eb0d",
   "metadata": {},
   "source": [
    "Mean return → Computes average daily return of the portfolio.   \n",
    "Expected Return → The portfolio earns ~0.0937% per day on average."
   ]
  },
  {
   "cell_type": "code",
   "execution_count": 60,
   "id": "3154eca8",
   "metadata": {},
   "outputs": [
    {
     "data": {
      "text/plain": [
       "0.0009366970530650013"
      ]
     },
     "execution_count": 60,
     "metadata": {},
     "output_type": "execute_result"
    }
   ],
   "source": [
    "# Calculate the expected portfolio return\n",
    "benchmark_exp_return = portfolio_returns.mean()\n",
    "benchmark_exp_return"
   ]
  },
  {
   "cell_type": "markdown",
   "id": "b5f20a6b",
   "metadata": {},
   "source": [
    "Sharpe Ratio → Measures how much return we get per unit of risk.   \n",
    "Sharpe Ratio (0.722) → A higher number means better risk-adjusted returns."
   ]
  },
  {
   "cell_type": "code",
   "execution_count": 61,
   "id": "f69ba324",
   "metadata": {},
   "outputs": [
    {
     "data": {
      "text/plain": [
       "0.7221868020795008"
      ]
     },
     "execution_count": 61,
     "metadata": {},
     "output_type": "execute_result"
    }
   ],
   "source": [
    "# Calculate the portfolio's Sharpe ratio\n",
    "benchmark_sharpe_ratio = (\n",
    "    portfolio_returns.mean() / portfolio_returns.std() * np.sqrt(252)\n",
    ")\n",
    "benchmark_sharpe_ratio"
   ]
  },
  {
   "cell_type": "code",
   "execution_count": 62,
   "id": "74b29f2b",
   "metadata": {},
   "outputs": [
    {
     "data": {
      "text/plain": [
       "AAPL     0.292454\n",
       "AMZN     0.188956\n",
       "GOOGL    0.235250\n",
       "META     0.242660\n",
       "NFLX     0.220919\n",
       "dtype: float64"
      ]
     },
     "execution_count": 62,
     "metadata": {},
     "output_type": "execute_result"
    }
   ],
   "source": [
    "# Task 2 ---------------------------------------------------\n",
    "\n",
    "### Calculate the annualized expected returns\n",
    "\n",
    "# returns_df.mean() → Calculates the average daily return for each stock.\n",
    "# Multiplies by 252 trading days in a year to convert daily returns into annualized returns.\n",
    "avg_returns = returns_df.mean() * 252\n",
    "avg_returns"
   ]
  },
  {
   "cell_type": "markdown",
   "id": "68c28901",
   "metadata": {},
   "source": [
    "This tells us how much we expect each stock to grow annually.  \n",
    "      \n",
    "    Higher is better, but must be balanced with risk.   \n",
    "    The optimizer uses these values to find the best mix of stocks that maximize return while controlling risk.\n",
    "\n",
    "\n",
    "- Apple’s expected return is ~29.24% per year.\n",
    "- Amazon’s expected return is ~18.89% per year.\n",
    "- Google, Meta, and Netflix have returns between ~22-24% per year."
   ]
  },
  {
   "cell_type": "code",
   "execution_count": 63,
   "id": "80aa4cf2",
   "metadata": {},
   "outputs": [
    {
     "data": {
      "text/html": [
       "<div>\n",
       "<style scoped>\n",
       "    .dataframe tbody tr th:only-of-type {\n",
       "        vertical-align: middle;\n",
       "    }\n",
       "\n",
       "    .dataframe tbody tr th {\n",
       "        vertical-align: top;\n",
       "    }\n",
       "\n",
       "    .dataframe thead th {\n",
       "        text-align: right;\n",
       "    }\n",
       "</style>\n",
       "<table border=\"1\" class=\"dataframe\">\n",
       "  <thead>\n",
       "    <tr style=\"text-align: right;\">\n",
       "      <th></th>\n",
       "      <th>AAPL</th>\n",
       "      <th>AMZN</th>\n",
       "      <th>GOOGL</th>\n",
       "      <th>META</th>\n",
       "      <th>NFLX</th>\n",
       "    </tr>\n",
       "  </thead>\n",
       "  <tbody>\n",
       "    <tr>\n",
       "      <th>AAPL</th>\n",
       "      <td>0.112683</td>\n",
       "      <td>0.078926</td>\n",
       "      <td>0.077773</td>\n",
       "      <td>0.095367</td>\n",
       "      <td>0.077774</td>\n",
       "    </tr>\n",
       "    <tr>\n",
       "      <th>AMZN</th>\n",
       "      <td>0.078926</td>\n",
       "      <td>0.142040</td>\n",
       "      <td>0.083945</td>\n",
       "      <td>0.108089</td>\n",
       "      <td>0.101851</td>\n",
       "    </tr>\n",
       "    <tr>\n",
       "      <th>GOOGL</th>\n",
       "      <td>0.077773</td>\n",
       "      <td>0.083945</td>\n",
       "      <td>0.112423</td>\n",
       "      <td>0.106969</td>\n",
       "      <td>0.076233</td>\n",
       "    </tr>\n",
       "    <tr>\n",
       "      <th>META</th>\n",
       "      <td>0.095367</td>\n",
       "      <td>0.108089</td>\n",
       "      <td>0.106969</td>\n",
       "      <td>0.218838</td>\n",
       "      <td>0.116967</td>\n",
       "    </tr>\n",
       "    <tr>\n",
       "      <th>NFLX</th>\n",
       "      <td>0.077774</td>\n",
       "      <td>0.101851</td>\n",
       "      <td>0.076233</td>\n",
       "      <td>0.116967</td>\n",
       "      <td>0.237020</td>\n",
       "    </tr>\n",
       "  </tbody>\n",
       "</table>\n",
       "</div>"
      ],
      "text/plain": [
       "           AAPL      AMZN     GOOGL      META      NFLX\n",
       "AAPL   0.112683  0.078926  0.077773  0.095367  0.077774\n",
       "AMZN   0.078926  0.142040  0.083945  0.108089  0.101851\n",
       "GOOGL  0.077773  0.083945  0.112423  0.106969  0.076233\n",
       "META   0.095367  0.108089  0.106969  0.218838  0.116967\n",
       "NFLX   0.077774  0.101851  0.076233  0.116967  0.237020"
      ]
     },
     "execution_count": 63,
     "metadata": {},
     "output_type": "execute_result"
    }
   ],
   "source": [
    "### Calculate the covariance matrix\n",
    "\n",
    "# returns_df.cov() → Calculates the daily covariance matrix, which shows how stocks move together.\n",
    "# Multiplies by 252 trading days in a year to convert daily covariance into annualized covariance.\n",
    "cov_mat = returns_df.cov() * 252\n",
    "cov_mat"
   ]
  },
  {
   "cell_type": "markdown",
   "id": "d894c891",
   "metadata": {},
   "source": [
    "The diagonal values (e.g., AAPL: 0.1127, AMZN: 0.1420, etc.) represent the variance of each stock (how volatile it is).   \n",
    "The off-diagonal values (e.g., AAPL-AMZN: 0.0789, GOOGL-NFLX: 0.0762, etc.) represent covariances, which measure how stocks move together.   \n",
    "\n",
    "    If two stocks move together (high covariance), they don’t reduce risk much when combined.   \n",
    "\tIf two stocks move oppositely (low or negative covariance), they help diversify and lower portfolio risk.   \n",
    "\tThe optimizer uses this matrix to find the best combination of stocks that minimize risk.   "
   ]
  },
  {
   "cell_type": "markdown",
   "id": "76b6a7c2",
   "metadata": {},
   "source": [
    "### Minimum Volatility Portfolio\n",
    "\n",
    "Finds the stock allocation that minimizes risk.   \n",
    "Stores the optimal stock weights and volatility.   "
   ]
  },
  {
   "cell_type": "code",
   "execution_count": 96,
   "id": "284b4ece",
   "metadata": {},
   "outputs": [
    {
     "data": {
      "text/plain": [
       "AAPL     0.398420\n",
       "AMZN     0.149108\n",
       "GOOGL    0.382898\n",
       "META     0.000000\n",
       "NFLX     0.069574\n",
       "dtype: float64"
      ]
     },
     "execution_count": 96,
     "metadata": {},
     "output_type": "execute_result"
    }
   ],
   "source": [
    "# Instantiate the EfficientFrontier object\n",
    "ef = EfficientFrontier(avg_returns, cov_mat)\n",
    "\n",
    "# Find the weights that maximize the Sharpe ratio\n",
    "weights = ef.min_volatility()\n",
    "mv_portfolio = pd.Series(weights)\n",
    "mv_portfolio"
   ]
  },
  {
   "cell_type": "code",
   "execution_count": 69,
   "id": "8b2231ce",
   "metadata": {},
   "outputs": [
    {
     "data": {
      "text/plain": [
       "0.30307367115474626"
      ]
     },
     "execution_count": 69,
     "metadata": {},
     "output_type": "execute_result"
    }
   ],
   "source": [
    "# Find the minimized volatility\n",
    "mv_portfolio_vol = ef.portfolio_performance(risk_free_rate=0)[1]\n",
    "mv_portfolio_vol"
   ]
  },
  {
   "cell_type": "markdown",
   "id": "84252010",
   "metadata": {},
   "source": [
    "The lowest-risk portfolio invests 40% in Apple, 38% in Google, and 15% in Amazon.   \n",
    "Meta (0%) is excluded because it adds too much risk.   \n",
    "The portfolio has 30.3% annual volatility.   \n"
   ]
  },
  {
   "cell_type": "code",
   "execution_count": 100,
   "id": "d9cd32c9",
   "metadata": {},
   "outputs": [],
   "source": [
    "# # Task 2 - alternative solution ----------------------------\n",
    "\n",
    "# # Calculate the annualized expected returns and the covariance matrix\n",
    "# avg_returns = returns_df.mean() * 252\n",
    "# cov_mat = returns_df.cov() * 252\n",
    "\n",
    "\n",
    "# # Define the function to find the portfolio volatility using the weights and the covariance matrix\n",
    "# def get_portfolio_volatility(weights, cov_mat):\n",
    "#     return np.sqrt(np.dot(weights.T, np.dot(cov_mat, weights)))\n",
    "  \n",
    "# # Define the number of assets\n",
    "# n_assets = len(avg_returns)\n",
    "# n_assets\n",
    "\n",
    "\n",
    "# # Define the bounds - the weights can be between 0 and 1\n",
    "# bounds = tuple((0, 1) for asset in range(n_assets))\n",
    "# bounds\n",
    "\n",
    "\n",
    "# # Define the initial guess - the equally weighted portfolio\n",
    "# initial_guess = n_assets * [1.0 / n_assets]\n",
    "# initial_guess\n",
    "\n",
    "\n",
    "# # Define the constraint - all weights must add up to 1\n",
    "# constr = {\"type\": \"eq\", \"fun\": lambda x: np.sum(x) - 1}\n",
    "# constr\n",
    "\n",
    "\n",
    "\n",
    "# # Find the minimum volatility portfolio\n",
    "# result = sco.minimize(\n",
    "#     get_portfolio_volatility,\n",
    "#     x0=initial_guess,\n",
    "#     args=cov_mat,\n",
    "#     method=\"SLSQP\",\n",
    "#     constraints=constr,\n",
    "#     bounds=bounds,\n",
    "# )\n",
    "# result\n",
    "\n",
    "\n",
    "\n",
    "# # Store the portfolio weights\n",
    "# mv_portfolio = pd.Series(result.x, index=avg_returns.index).round(2)\n",
    "# mv_portfolio\n",
    "\n",
    "\n",
    "\n",
    "# # Store the portfolio's volatility\n",
    "# mv_portfolio_vol = result.fun\n",
    "# mv_portfolio_vol"
   ]
  },
  {
   "cell_type": "markdown",
   "id": "adf68175",
   "metadata": {},
   "source": [
    "### Maximum Sharpe Ratio Portfolio\n",
    "\n",
    "Finds the stock allocation that maximizes return per unit of risk."
   ]
  },
  {
   "cell_type": "code",
   "execution_count": 98,
   "id": "c6311973",
   "metadata": {},
   "outputs": [
    {
     "data": {
      "text/plain": [
       "AAPL     0.787440\n",
       "AMZN     0.000000\n",
       "GOOGL    0.199698\n",
       "META     0.000000\n",
       "NFLX     0.012861\n",
       "dtype: float64"
      ]
     },
     "execution_count": 98,
     "metadata": {},
     "output_type": "execute_result"
    }
   ],
   "source": [
    "# Task 3 ---------------------------------------------------\n",
    "\n",
    "# Alternative approach to get the expected returns and the covariance matrix\n",
    "# avg_returns = expected_returns.mean_historical_return(stock_prices_df, compounding=False)\n",
    "# cov_mat = risk_models.sample_cov(stock_prices_df)\n",
    "\n",
    "# Instantiate the EfficientFrontier object\n",
    "ef = EfficientFrontier(avg_returns, cov_mat)\n",
    "# Find the weights that maximize the Sharpe ratio\n",
    "weights = ef.max_sharpe(risk_free_rate=0)\n",
    "ms_portfolio = pd.Series(weights)\n",
    "ms_portfolio"
   ]
  },
  {
   "cell_type": "code",
   "execution_count": 86,
   "id": "f87311d8",
   "metadata": {},
   "outputs": [
    {
     "data": {
      "text/plain": [
       "0.8821809421501474"
      ]
     },
     "execution_count": 86,
     "metadata": {},
     "output_type": "execute_result"
    }
   ],
   "source": [
    "# Find the maximized Sharpe ratio\n",
    "ms_portfolio_sharpe = ef.portfolio_performance(risk_free_rate=0)[2]\n",
    "ms_portfolio_sharpe"
   ]
  },
  {
   "cell_type": "markdown",
   "id": "e31fa41e",
   "metadata": {},
   "source": [
    "This portfolio heavily favors Apple (78.7%) because it gives the best return per risk.   \n",
    "Amazon & Meta get 0% because they don’t improve the risk-return tradeoff.   \n",
    "The Sharpe Ratio is 0.882, meaning this is the best portfolio for maximizing returns with controlled risk.   "
   ]
  },
  {
   "cell_type": "markdown",
   "id": "88f64132",
   "metadata": {},
   "source": [
    "### Data Visualization"
   ]
  },
  {
   "cell_type": "code",
   "execution_count": 103,
   "id": "d38d8da9",
   "metadata": {},
   "outputs": [
    {
     "data": {
      "image/png": "[encoded data removed]",
      "text/plain": [
       "<Figure size 1400x500 with 2 Axes>"
      ]
     },
     "metadata": {},
     "output_type": "display_data"
    },
    {
     "data": {
      "image/png": "[encoded data removed]",
      "text/plain": [
       "<Figure size 800x600 with 2 Axes>"
      ]
     },
     "metadata": {},
     "output_type": "display_data"
    }
   ],
   "source": [
    "# Expected returns and covariance matrix (example values)\n",
    "avg_returns = pd.Series({\n",
    "    'AAPL': 0.2924, 'AMZN': 0.1889, 'GOOGL': 0.2352, 'META': 0.2426, 'NFLX': 0.2209\n",
    "})\n",
    "\n",
    "cov_mat = pd.DataFrame({\n",
    "    'AAPL': [0.1127, 0.0789, 0.0778, 0.0954, 0.0778],\n",
    "    'AMZN': [0.0789, 0.1420, 0.0839, 0.1081, 0.1018],\n",
    "    'GOOGL': [0.0778, 0.0839, 0.1124, 0.1069, 0.0762],\n",
    "    'META': [0.0954, 0.1081, 0.1069, 0.2188, 0.1169],\n",
    "    'NFLX': [0.0778, 0.1018, 0.0762, 0.1169, 0.2370]\n",
    "}, index=['AAPL', 'AMZN', 'GOOGL', 'META', 'NFLX'])\n",
    "\n",
    "# Portfolio allocations\n",
    "min_volatility_portfolio = pd.Series({\n",
    "    'AAPL': 0.40, 'AMZN': 0.15, 'GOOGL': 0.38, 'META': 0.00, 'NFLX': 0.07\n",
    "})\n",
    "\n",
    "max_sharpe_portfolio = pd.Series({\n",
    "    'AAPL': 0.787, 'AMZN': 0.000, 'GOOGL': 0.199, 'META': 0.000, 'NFLX': 0.012\n",
    "})\n",
    "\n",
    "# Plot Portfolio Allocations\n",
    "fig, axes = plt.subplots(1, 2, figsize=(14, 5))\n",
    "\n",
    "# Minimum Volatility Portfolio\n",
    "axes[0].pie(min_volatility_portfolio, labels=min_volatility_portfolio.index, autopct='%1.1f%%', startangle=140)\n",
    "axes[0].set_title(\"Minimum Volatility Portfolio\")\n",
    "\n",
    "# Maximum Sharpe Ratio Portfolio\n",
    "axes[1].pie(max_sharpe_portfolio, labels=max_sharpe_portfolio.index, autopct='%1.1f%%', startangle=140)\n",
    "axes[1].set_title(\"Maximum Sharpe Ratio Portfolio\")\n",
    "\n",
    "plt.show()\n",
    "\n",
    "# Heatmap of Covariance Matrix\n",
    "plt.figure(figsize=(8, 6))\n",
    "sns.heatmap(cov_mat, annot=True, fmt=\".3f\", cmap=\"coolwarm\", linewidths=0.5)\n",
    "plt.title(\"Covariance Matrix of FAANG Stocks\")\n",
    "plt.show()"
   ]
  },
  {
   "cell_type": "markdown",
   "id": "148bbbe9",
   "metadata": {},
   "source": [
    "1.\tPortfolio Allocations:\n",
    "- The Minimum Volatility Portfolio allocates 40% to Apple, 38% to Google, 15% to Amazon, 7% to Netflix, and 0% to Meta to minimize risk.\n",
    "- The Maximum Sharpe Ratio Portfolio heavily favors Apple (78.7%) and Google (19.9%) while excluding Amazon and Meta to maximize return per risk.\n",
    "2.\tCovariance Matrix Heatmap:\n",
    "- This heatmap shows how FAANG stocks move together.\n",
    "- Darker red areas indicate high covariance (stocks move similarly).\n",
    "- Lighter blue areas indicate lower covariance, meaning the stocks are better for diversification."
   ]
  }
 ],
 "metadata": {
  "colab": {
   "name": "Welcome to DataCamp Workspaces.ipynb",
   "provenance": []
  },
  "kernelspec": {
   "display_name": "conda_env",
   "language": "python",
   "name": "python3"
  },
  "language_info": {
   "codemirror_mode": {
    "name": "ipython",
    "version": 3
   },
   "file_extension": ".py",
   "mimetype": "text/x-python",
   "name": "python",
   "nbconvert_exporter": "python",
   "pygments_lexer": "ipython3",
   "version": "3.12.2"
  }
 },
 "nbformat": 4,
 "nbformat_minor": 5
}
